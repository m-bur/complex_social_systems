{
 "cells": [
  {
   "cell_type": "code",
   "execution_count": 1,
   "metadata": {},
   "outputs": [],
   "source": [
    "import importlib"
   ]
  },
  {
   "cell_type": "code",
   "execution_count": 2,
   "metadata": {},
   "outputs": [
    {
     "ename": "NameError",
     "evalue": "name 'ut' is not defined",
     "output_type": "error",
     "traceback": [
      "\u001b[1;31m---------------------------------------------------------------------------\u001b[0m",
      "\u001b[1;31mNameError\u001b[0m                                 Traceback (most recent call last)",
      "Cell \u001b[1;32mIn[2], line 1\u001b[0m\n\u001b[1;32m----> 1\u001b[0m importlib\u001b[38;5;241m.\u001b[39mreload(\u001b[43mut\u001b[49m)\n",
      "\u001b[1;31mNameError\u001b[0m: name 'ut' is not defined"
     ]
    }
   ],
   "source": [
    "importlib.reload(ut)"
   ]
  },
  {
   "cell_type": "code",
   "execution_count": 107,
   "metadata": {},
   "outputs": [],
   "source": [
    "import numpy as np\n",
    "import pandas as pd\n",
    "\n",
    "from utils import utils as ut"
   ]
  },
  {
   "cell_type": "code",
   "execution_count": 108,
   "metadata": {},
   "outputs": [],
   "source": [
    "# Function to create an nxn voter matrix, assign media connections and neighbors\n",
    "def create_voter_matrix_and_media_connections(n, number_of_media=5):\n",
    "    # Create an nxn matrix to hold Voter objects\n",
    "    voter_matrix = np.empty((n, n), dtype=object)\n",
    "\n",
    "    # Initialize Voter objects in the matrix\n",
    "    for i in range(n):\n",
    "        for j in range(n):\n",
    "            # Initialize voters with position (i, j) and default opinion 0\n",
    "            voter_matrix[i, j] = ut.Voter(i=i, j=j, opinion=0)\n",
    "\n",
    "    # Assign the nearest neighbors for each voter (up, down, left, right)\n",
    "    for i in range(n):\n",
    "        for j in range(n):\n",
    "            # Add neighbors (up, down, left, right)\n",
    "            if i > 0:  # Up\n",
    "                voter_matrix[i, j].add_neighbor(i-1, j)\n",
    "            if i < n - 1:  # Down\n",
    "                voter_matrix[i, j].add_neighbor(i+1, j)\n",
    "            if j > 0:  # Left\n",
    "                voter_matrix[i, j].add_neighbor(i, j-1)\n",
    "            if j < n - 1:  # Right\n",
    "                voter_matrix[i, j].add_neighbor(i, j+1)\n",
    "\n",
    "    # Generate media landscape (let's create `number_of_media` media nodes)\n",
    "    media_df = ut.generate_media_landscape(number_of_media=number_of_media, mode=\"standard\")\n",
    "\n",
    "    # Assign random media connections to each voter in the matrix\n",
    "    for i in range(n):\n",
    "        for j in range(n):\n",
    "            # Randomly assign 1 to 3 media connections to each voter\n",
    "            num_media_connections = np.random.randint(1, 4)\n",
    "            for _ in range(num_media_connections):\n",
    "                media_id = np.random.choice(media_df['media_id'].values)\n",
    "                voter_matrix[i, j].add_media_connection(media_id)\n",
    "\n",
    "    return voter_matrix, media_df"
   ]
  },
  {
   "cell_type": "code",
   "execution_count": 109,
   "metadata": {},
   "outputs": [
    {
     "name": "stdout",
     "output_type": "stream",
     "text": [
      "<class 'utils.utils.Voter'>\n"
     ]
    }
   ],
   "source": [
    "v = ut.Voter\n",
    "\n",
    "print(v)"
   ]
  },
  {
   "cell_type": "code",
   "execution_count": 110,
   "metadata": {},
   "outputs": [
    {
     "data": {
      "text/html": [
       "<div>\n",
       "<style scoped>\n",
       "    .dataframe tbody tr th:only-of-type {\n",
       "        vertical-align: middle;\n",
       "    }\n",
       "\n",
       "    .dataframe tbody tr th {\n",
       "        vertical-align: top;\n",
       "    }\n",
       "\n",
       "    .dataframe thead th {\n",
       "        text-align: right;\n",
       "    }\n",
       "</style>\n",
       "<table border=\"1\" class=\"dataframe\">\n",
       "  <thead>\n",
       "    <tr style=\"text-align: right;\">\n",
       "      <th></th>\n",
       "      <th>node</th>\n",
       "      <th>media_id</th>\n",
       "    </tr>\n",
       "    <tr>\n",
       "      <th>media_id</th>\n",
       "      <th></th>\n",
       "      <th></th>\n",
       "    </tr>\n",
       "  </thead>\n",
       "  <tbody>\n",
       "    <tr>\n",
       "      <th>10</th>\n",
       "      <td>Media(id=10, opinion=-0.48891869548510325)</td>\n",
       "      <td>10</td>\n",
       "    </tr>\n",
       "    <tr>\n",
       "      <th>11</th>\n",
       "      <td>Media(id=11, opinion=0.051128513495108496)</td>\n",
       "      <td>11</td>\n",
       "    </tr>\n",
       "    <tr>\n",
       "      <th>12</th>\n",
       "      <td>Media(id=12, opinion=-0.627047774047635)</td>\n",
       "      <td>12</td>\n",
       "    </tr>\n",
       "    <tr>\n",
       "      <th>13</th>\n",
       "      <td>Media(id=13, opinion=0.3469254125273229)</td>\n",
       "      <td>13</td>\n",
       "    </tr>\n",
       "    <tr>\n",
       "      <th>14</th>\n",
       "      <td>Media(id=14, opinion=-0.9533379132220208)</td>\n",
       "      <td>14</td>\n",
       "    </tr>\n",
       "    <tr>\n",
       "      <th>15</th>\n",
       "      <td>Media(id=15, opinion=0.34763717898967506)</td>\n",
       "      <td>15</td>\n",
       "    </tr>\n",
       "    <tr>\n",
       "      <th>16</th>\n",
       "      <td>Media(id=16, opinion=-0.9038872798899615)</td>\n",
       "      <td>16</td>\n",
       "    </tr>\n",
       "    <tr>\n",
       "      <th>17</th>\n",
       "      <td>Media(id=17, opinion=-0.7759502545927557)</td>\n",
       "      <td>17</td>\n",
       "    </tr>\n",
       "    <tr>\n",
       "      <th>18</th>\n",
       "      <td>Media(id=18, opinion=0.7045700022776229)</td>\n",
       "      <td>18</td>\n",
       "    </tr>\n",
       "    <tr>\n",
       "      <th>19</th>\n",
       "      <td>Media(id=19, opinion=0.765687903803701)</td>\n",
       "      <td>19</td>\n",
       "    </tr>\n",
       "  </tbody>\n",
       "</table>\n",
       "</div>"
      ],
      "text/plain": [
       "                                                node  media_id\n",
       "media_id                                                      \n",
       "10        Media(id=10, opinion=-0.48891869548510325)        10\n",
       "11        Media(id=11, opinion=0.051128513495108496)        11\n",
       "12          Media(id=12, opinion=-0.627047774047635)        12\n",
       "13          Media(id=13, opinion=0.3469254125273229)        13\n",
       "14         Media(id=14, opinion=-0.9533379132220208)        14\n",
       "15         Media(id=15, opinion=0.34763717898967506)        15\n",
       "16         Media(id=16, opinion=-0.9038872798899615)        16\n",
       "17         Media(id=17, opinion=-0.7759502545927557)        17\n",
       "18          Media(id=18, opinion=0.7045700022776229)        18\n",
       "19           Media(id=19, opinion=0.765687903803701)        19"
      ]
     },
     "execution_count": 110,
     "metadata": {},
     "output_type": "execute_result"
    }
   ],
   "source": [
    "ut.generate_media_landscape(number_of_media=10)"
   ]
  },
  {
   "cell_type": "code",
   "execution_count": 117,
   "metadata": {},
   "outputs": [
    {
     "name": "stdout",
     "output_type": "stream",
     "text": [
      "Voter at (0, 0): Opinion = 0, Media Connections = [12, 14, 14], Neighbors = [(1, 0), (0, 1)]\n",
      "Voter at (0, 1): Opinion = 0, Media Connections = [11, 11, 18], Neighbors = [(1, 1), (0, 0), (0, 2)]\n",
      "Voter at (0, 2): Opinion = 0, Media Connections = [12, 16], Neighbors = [(1, 2), (0, 1), (0, 3)]\n",
      "Voter at (0, 3): Opinion = 0, Media Connections = [14, 11], Neighbors = [(1, 3), (0, 2), (0, 4)]\n",
      "Voter at (0, 4): Opinion = 0, Media Connections = [15], Neighbors = [(1, 4), (0, 3)]\n",
      "Voter at (1, 0): Opinion = 0, Media Connections = [16, 19], Neighbors = [(0, 0), (2, 0), (1, 1)]\n",
      "Voter at (1, 1): Opinion = 0, Media Connections = [19], Neighbors = [(0, 1), (2, 1), (1, 0), (1, 2)]\n",
      "Voter at (1, 2): Opinion = 0, Media Connections = [17, 17], Neighbors = [(0, 2), (2, 2), (1, 1), (1, 3)]\n",
      "Voter at (1, 3): Opinion = 0, Media Connections = [18, 18, 19], Neighbors = [(0, 3), (2, 3), (1, 2), (1, 4)]\n",
      "Voter at (1, 4): Opinion = 0, Media Connections = [18, 14, 12], Neighbors = [(0, 4), (2, 4), (1, 3)]\n",
      "Voter at (2, 0): Opinion = 0, Media Connections = [11], Neighbors = [(1, 0), (3, 0), (2, 1)]\n",
      "Voter at (2, 1): Opinion = 0, Media Connections = [10, 10], Neighbors = [(1, 1), (3, 1), (2, 0), (2, 2)]\n",
      "Voter at (2, 2): Opinion = 0, Media Connections = [16, 14, 13], Neighbors = [(1, 2), (3, 2), (2, 1), (2, 3)]\n",
      "Voter at (2, 3): Opinion = 0, Media Connections = [14], Neighbors = [(1, 3), (3, 3), (2, 2), (2, 4)]\n",
      "Voter at (2, 4): Opinion = 0, Media Connections = [12], Neighbors = [(1, 4), (3, 4), (2, 3)]\n",
      "Voter at (3, 0): Opinion = 0, Media Connections = [15], Neighbors = [(2, 0), (4, 0), (3, 1)]\n",
      "Voter at (3, 1): Opinion = 0, Media Connections = [12], Neighbors = [(2, 1), (4, 1), (3, 0), (3, 2)]\n",
      "Voter at (3, 2): Opinion = 0, Media Connections = [19, 13], Neighbors = [(2, 2), (4, 2), (3, 1), (3, 3)]\n",
      "Voter at (3, 3): Opinion = 0, Media Connections = [10], Neighbors = [(2, 3), (4, 3), (3, 2), (3, 4)]\n",
      "Voter at (3, 4): Opinion = 0, Media Connections = [18], Neighbors = [(2, 4), (4, 4), (3, 3)]\n",
      "Voter at (4, 0): Opinion = 0, Media Connections = [14], Neighbors = [(3, 0), (4, 1)]\n",
      "Voter at (4, 1): Opinion = 0, Media Connections = [14, 15, 19], Neighbors = [(3, 1), (4, 0), (4, 2)]\n",
      "Voter at (4, 2): Opinion = 0, Media Connections = [18], Neighbors = [(3, 2), (4, 1), (4, 3)]\n",
      "Voter at (4, 3): Opinion = 0, Media Connections = [10, 11], Neighbors = [(3, 3), (4, 2), (4, 4)]\n",
      "Voter at (4, 4): Opinion = 0, Media Connections = [11], Neighbors = [(3, 4), (4, 3)]\n",
      "\n",
      "Media Nodes:\n",
      "                                                node  media_id\n",
      "media_id                                                      \n",
      "10          Media(id=10, opinion=0.2944229893844008)        10\n",
      "11         Media(id=11, opinion=0.14952459012066854)        11\n",
      "12          Media(id=12, opinion=0.1658993123266972)        12\n",
      "13          Media(id=13, opinion=0.7245635958014731)        13\n",
      "14        Media(id=14, opinion=-0.14940119699507948)        14\n",
      "15         Media(id=15, opinion=-0.5587288102367287)        15\n",
      "16          Media(id=16, opinion=0.5023383336080918)        16\n",
      "17         Media(id=17, opinion=-0.3279040854171631)        17\n",
      "18         Media(id=18, opinion=-0.3474738947839622)        18\n",
      "19         Media(id=19, opinion=0.41794783800102797)        19\n"
     ]
    }
   ],
   "source": [
    "n = 5\n",
    "\n",
    "# Create voter matrix and media connections\n",
    "voter_matrix, media_df = create_voter_matrix_and_media_connections(n, number_of_media=10)\n",
    "\n",
    "# Display voters and their media connections along with their neighbors\n",
    "for i in range(n):\n",
    "    for j in range(n):\n",
    "        voter = voter_matrix[i, j]\n",
    "        neighbors = voter.get_neighbors()\n",
    "        print(f\"Voter at ({i}, {j}): Opinion = {voter.get_opinion()}, Media Connections = {voter.get_media_connections()}, Neighbors = {neighbors}\")\n",
    "\n",
    "# Display the media nodes and their opinions\n",
    "print(\"\\nMedia Nodes:\")\n",
    "print(media_df)"
   ]
  },
  {
   "cell_type": "code",
   "execution_count": 118,
   "metadata": {},
   "outputs": [
    {
     "data": {
      "text/plain": [
       "<module 'utils.utils' from 'c:\\\\Users\\\\morit\\\\Documents\\\\___MASTER\\\\semester1\\\\complex_systems\\\\complex_social_systems\\\\utils\\\\utils.py'>"
      ]
     },
     "execution_count": 118,
     "metadata": {},
     "output_type": "execute_result"
    }
   ],
   "source": [
    "importlib.reload(ut)"
   ]
  },
  {
   "cell_type": "code",
   "execution_count": 128,
   "metadata": {},
   "outputs": [
    {
     "data": {
      "text/html": [
       "<div>\n",
       "<style scoped>\n",
       "    .dataframe tbody tr th:only-of-type {\n",
       "        vertical-align: middle;\n",
       "    }\n",
       "\n",
       "    .dataframe tbody tr th {\n",
       "        vertical-align: top;\n",
       "    }\n",
       "\n",
       "    .dataframe thead th {\n",
       "        text-align: right;\n",
       "    }\n",
       "</style>\n",
       "<table border=\"1\" class=\"dataframe\">\n",
       "  <thead>\n",
       "    <tr style=\"text-align: right;\">\n",
       "      <th></th>\n",
       "      <th>node</th>\n",
       "      <th>media_id</th>\n",
       "    </tr>\n",
       "    <tr>\n",
       "      <th>media_id</th>\n",
       "      <th></th>\n",
       "      <th></th>\n",
       "    </tr>\n",
       "  </thead>\n",
       "  <tbody>\n",
       "    <tr>\n",
       "      <th>10</th>\n",
       "      <td>Media(id=10, opinion=0.2944229893844008)</td>\n",
       "      <td>10</td>\n",
       "    </tr>\n",
       "    <tr>\n",
       "      <th>11</th>\n",
       "      <td>Media(id=11, opinion=0.14952459012066854)</td>\n",
       "      <td>11</td>\n",
       "    </tr>\n",
       "    <tr>\n",
       "      <th>12</th>\n",
       "      <td>Media(id=12, opinion=0.1658993123266972)</td>\n",
       "      <td>12</td>\n",
       "    </tr>\n",
       "    <tr>\n",
       "      <th>13</th>\n",
       "      <td>Media(id=13, opinion=0.7245635958014731)</td>\n",
       "      <td>13</td>\n",
       "    </tr>\n",
       "    <tr>\n",
       "      <th>14</th>\n",
       "      <td>Media(id=14, opinion=-0.14940119699507948)</td>\n",
       "      <td>14</td>\n",
       "    </tr>\n",
       "    <tr>\n",
       "      <th>15</th>\n",
       "      <td>Media(id=15, opinion=-0.5587288102367287)</td>\n",
       "      <td>15</td>\n",
       "    </tr>\n",
       "    <tr>\n",
       "      <th>16</th>\n",
       "      <td>Media(id=16, opinion=0.5023383336080918)</td>\n",
       "      <td>16</td>\n",
       "    </tr>\n",
       "    <tr>\n",
       "      <th>17</th>\n",
       "      <td>Media(id=17, opinion=-0.3279040854171631)</td>\n",
       "      <td>17</td>\n",
       "    </tr>\n",
       "    <tr>\n",
       "      <th>18</th>\n",
       "      <td>Media(id=18, opinion=-0.3474738947839622)</td>\n",
       "      <td>18</td>\n",
       "    </tr>\n",
       "    <tr>\n",
       "      <th>19</th>\n",
       "      <td>Media(id=19, opinion=0.41794783800102797)</td>\n",
       "      <td>19</td>\n",
       "    </tr>\n",
       "  </tbody>\n",
       "</table>\n",
       "</div>"
      ],
      "text/plain": [
       "                                                node  media_id\n",
       "media_id                                                      \n",
       "10          Media(id=10, opinion=0.2944229893844008)        10\n",
       "11         Media(id=11, opinion=0.14952459012066854)        11\n",
       "12          Media(id=12, opinion=0.1658993123266972)        12\n",
       "13          Media(id=13, opinion=0.7245635958014731)        13\n",
       "14        Media(id=14, opinion=-0.14940119699507948)        14\n",
       "15         Media(id=15, opinion=-0.5587288102367287)        15\n",
       "16          Media(id=16, opinion=0.5023383336080918)        16\n",
       "17         Media(id=17, opinion=-0.3279040854171631)        17\n",
       "18         Media(id=18, opinion=-0.3474738947839622)        18\n",
       "19         Media(id=19, opinion=0.41794783800102797)        19"
      ]
     },
     "execution_count": 128,
     "metadata": {},
     "output_type": "execute_result"
    },
    {
     "name": "stdout",
     "output_type": "stream",
     "text": [
      "\n",
      "Caching the list of root modules, please wait!\n",
      "(This will only be done once - type '%rehashx' to reset cache!)\n",
      "\n"
     ]
    }
   ],
   "source": [
    "media_df"
   ]
  },
  {
   "cell_type": "code",
   "execution_count": 129,
   "metadata": {},
   "outputs": [],
   "source": [
    "import numpy as np"
   ]
  },
  {
   "cell_type": "code",
   "execution_count": 130,
   "metadata": {},
   "outputs": [
    {
     "data": {
      "text/plain": [
       "array([1., 1., 1., 1., 1., 1., 1., 1., 1., 1.])"
      ]
     },
     "execution_count": 130,
     "metadata": {},
     "output_type": "execute_result"
    }
   ],
   "source": [
    "np.linspace(1,1,num= 10)"
   ]
  },
  {
   "cell_type": "code",
   "execution_count": 3,
   "metadata": {},
   "outputs": [],
   "source": [
    "from utils.network import *"
   ]
  },
  {
   "cell_type": "code",
   "execution_count": 6,
   "metadata": {},
   "outputs": [
    {
     "data": {
      "text/plain": [
       "1"
      ]
     },
     "execution_count": 6,
     "metadata": {},
     "output_type": "execute_result"
    }
   ],
   "source": [
    "liste = [1,2,3,4,5,6]\n",
    "get_number_of_consecutive_terms(liste)"
   ]
  },
  {
   "cell_type": "code",
   "execution_count": null,
   "metadata": {},
   "outputs": [],
   "source": []
  }
 ],
 "metadata": {
  "kernelspec": {
   "display_name": "base",
   "language": "python",
   "name": "python3"
  },
  "language_info": {
   "codemirror_mode": {
    "name": "ipython",
    "version": 3
   },
   "file_extension": ".py",
   "mimetype": "text/x-python",
   "name": "python",
   "nbconvert_exporter": "python",
   "pygments_lexer": "ipython3",
   "version": "3.10.9"
  }
 },
 "nbformat": 4,
 "nbformat_minor": 2
}

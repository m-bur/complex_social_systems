{
 "cells": [
  {
   "cell_type": "code",
   "execution_count": 1,
   "metadata": {},
   "outputs": [],
   "source": [
    "import numpy as np"
   ]
  },
  {
   "cell_type": "code",
   "execution_count": 10,
   "metadata": {},
   "outputs": [],
   "source": [
    "from utils import voter as vt"
   ]
  },
  {
   "cell_type": "code",
   "execution_count": 12,
   "metadata": {},
   "outputs": [
    {
     "data": {
      "text/plain": [
       "<module 'utils.voter' from 'c:\\\\Users\\\\morit\\\\Documents\\\\___MASTER\\\\semester1\\\\complex_systems\\\\complex_social_systems\\\\utils\\\\voter.py'>"
      ]
     },
     "execution_count": 12,
     "metadata": {},
     "output_type": "execute_result"
    }
   ],
   "source": [
    "vt"
   ]
  },
  {
   "cell_type": "code",
   "execution_count": 13,
   "metadata": {},
   "outputs": [
    {
     "name": "stdout",
     "output_type": "stream",
     "text": [
      "Voter(i=2, j=2, opinion=0, neighbors=[(1, 2), (3, 2), (2, 1), (2, 3)])\n"
     ]
    }
   ],
   "source": [
    "# Define grid dimensions\n",
    "rows, cols = 5, 5  # Example size, can be adjusted as needed\n",
    "\n",
    "# Initialize the grid with Voter objects\n",
    "voter_grid = np.empty((rows, cols), dtype=object)\n",
    "for i in range(rows):\n",
    "    for j in range(cols):\n",
    "        voter = vt.Voter(i, j)\n",
    "        voter_grid[i, j] = voter\n",
    "\n",
    "        # Determine neighbors in the 4-neighbor sense (up, down, left, right)\n",
    "        if i > 0:  # Top neighbor\n",
    "            voter.add_neighbor(i - 1, j)\n",
    "        if i < rows - 1:  # Bottom neighbor\n",
    "            voter.add_neighbor(i + 1, j)\n",
    "        if j > 0:  # Left neighbor\n",
    "            voter.add_neighbor(i, j - 1)\n",
    "        if j < cols - 1:  # Right neighbor\n",
    "            voter.add_neighbor(i, j + 1)\n",
    "\n",
    "# Print an example Voter at position (2, 2) to verify\n",
    "print(voter_grid[2, 2])\n"
   ]
  },
  {
   "cell_type": "code",
   "execution_count": 18,
   "metadata": {},
   "outputs": [
    {
     "data": {
      "text/plain": [
       "Voter(i=0, j=0, opinion=0, neighbors=[(1, 0), (0, 1)])"
      ]
     },
     "execution_count": 18,
     "metadata": {},
     "output_type": "execute_result"
    }
   ],
   "source": [
    "voter_grid[0,0]"
   ]
  },
  {
   "cell_type": "code",
   "execution_count": null,
   "metadata": {},
   "outputs": [],
   "source": []
  }
 ],
 "metadata": {
  "kernelspec": {
   "display_name": "base",
   "language": "python",
   "name": "python3"
  },
  "language_info": {
   "codemirror_mode": {
    "name": "ipython",
    "version": 3
   },
   "file_extension": ".py",
   "mimetype": "text/x-python",
   "name": "python",
   "nbconvert_exporter": "python",
   "pygments_lexer": "ipython3",
   "version": "3.10.9"
  }
 },
 "nbformat": 4,
 "nbformat_minor": 2
}
